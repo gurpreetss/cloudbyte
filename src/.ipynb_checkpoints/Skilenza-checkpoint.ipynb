{
 "cells": [
  {
   "cell_type": "code",
   "execution_count": 3,
   "metadata": {
    "collapsed": true
   },
   "outputs": [],
   "source": [
    " #!/usr/bin/env python -W ignore\n",
    "from __future__ import division, print_function, unicode_literals\n",
    "\n",
    "import warnings\n",
    "warnings.filterwarnings(\"ignore\")\n",
    "\n",
    "# Common imports\n",
    "import numpy as np\n",
    "import pandas as pd\n",
    "from datetime import datetime\n",
    "import os, sys\n",
    "from statsmodels.tsa.arima_model import ARIMA\n",
    "from pandas import DataFrame\n",
    "from sklearn.metrics import mean_squared_error\n",
    "\n",
    "%matplotlib inline\n",
    "import matplotlib\n",
    "import matplotlib.pyplot as plt\n",
    "plt.rcParams['axes.labelsize'] = 14\n",
    "plt.rcParams['xtick.labelsize'] = 12\n",
    "plt.rcParams['ytick.labelsize'] = 12\n",
    "\n",
    "gDataPath = '../data/D11-02/'\n",
    "\n",
    "def save_img(id, tight_layout=True):\n",
    "    path = os.path.join(\"./images\", fig_id + \".png\")\n",
    "    print(\"Saving figure\", fig_id)\n",
    "    if tight_layout:\n",
    "        plt.tight_layout()\n",
    "        plt.savefig(path, format='png', dpi=300)"
   ]
  },
  {
   "cell_type": "code",
   "execution_count": 4,
   "metadata": {
    "collapsed": true
   },
   "outputs": [],
   "source": [
    "def read_data():\n",
    "    data_files = ['D11', 'D12', 'D01', 'D02']\n",
    "    data = (pd.read_csv(os.path.join(gDataPath,f), sep=';', header=0) for f in data_files)\n",
    "    concat_data = pd.concat(data, ignore_index=True)\n",
    "    # Change the column name from chineses to english\n",
    "    concat_data.columns = ['Transaction Date', 'Customer ID', 'Age', 'Residence Area', 'Product Subclass', 'Product ID', 'Amount', 'Asset', 'Sale Price'] \n",
    "    # Handle the time elements for Transaction Date\n",
    "    concat_data['Transaction Date'] = pd.to_datetime(concat_data['Transaction Date'])\n",
    "    concat_data.index = concat_data['Transaction Date']\n",
    "    del concat_data['Transaction Date']\n",
    "    return concat_data"
   ]
  },
  {
   "cell_type": "code",
   "execution_count": 5,
   "metadata": {},
   "outputs": [
    {
     "data": {
      "text/html": [
       "<div>\n",
       "<style>\n",
       "    .dataframe thead tr:only-child th {\n",
       "        text-align: right;\n",
       "    }\n",
       "\n",
       "    .dataframe thead th {\n",
       "        text-align: left;\n",
       "    }\n",
       "\n",
       "    .dataframe tbody tr th {\n",
       "        vertical-align: top;\n",
       "    }\n",
       "</style>\n",
       "<table border=\"1\" class=\"dataframe\">\n",
       "  <thead>\n",
       "    <tr style=\"text-align: right;\">\n",
       "      <th></th>\n",
       "      <th>Customer ID</th>\n",
       "      <th>Age</th>\n",
       "      <th>Residence Area</th>\n",
       "      <th>Product Subclass</th>\n",
       "      <th>Product ID</th>\n",
       "      <th>Amount</th>\n",
       "      <th>Asset</th>\n",
       "      <th>Sale Price</th>\n",
       "    </tr>\n",
       "    <tr>\n",
       "      <th>Transaction Date</th>\n",
       "      <th></th>\n",
       "      <th></th>\n",
       "      <th></th>\n",
       "      <th></th>\n",
       "      <th></th>\n",
       "      <th></th>\n",
       "      <th></th>\n",
       "      <th></th>\n",
       "    </tr>\n",
       "  </thead>\n",
       "  <tbody>\n",
       "    <tr>\n",
       "      <th>2000-11-01</th>\n",
       "      <td>46855</td>\n",
       "      <td>D</td>\n",
       "      <td>E</td>\n",
       "      <td>110411</td>\n",
       "      <td>4710085120468</td>\n",
       "      <td>3</td>\n",
       "      <td>51</td>\n",
       "      <td>57</td>\n",
       "    </tr>\n",
       "    <tr>\n",
       "      <th>2000-11-01</th>\n",
       "      <td>539166</td>\n",
       "      <td>E</td>\n",
       "      <td>E</td>\n",
       "      <td>130315</td>\n",
       "      <td>4714981010038</td>\n",
       "      <td>2</td>\n",
       "      <td>56</td>\n",
       "      <td>48</td>\n",
       "    </tr>\n",
       "    <tr>\n",
       "      <th>2000-11-01</th>\n",
       "      <td>663373</td>\n",
       "      <td>F</td>\n",
       "      <td>E</td>\n",
       "      <td>110217</td>\n",
       "      <td>4710265847666</td>\n",
       "      <td>1</td>\n",
       "      <td>180</td>\n",
       "      <td>135</td>\n",
       "    </tr>\n",
       "    <tr>\n",
       "      <th>2000-11-01</th>\n",
       "      <td>340625</td>\n",
       "      <td>A</td>\n",
       "      <td>E</td>\n",
       "      <td>110411</td>\n",
       "      <td>4710085120697</td>\n",
       "      <td>1</td>\n",
       "      <td>17</td>\n",
       "      <td>24</td>\n",
       "    </tr>\n",
       "    <tr>\n",
       "      <th>2000-11-01</th>\n",
       "      <td>236645</td>\n",
       "      <td>D</td>\n",
       "      <td>H</td>\n",
       "      <td>712901</td>\n",
       "      <td>8999002568972</td>\n",
       "      <td>2</td>\n",
       "      <td>128</td>\n",
       "      <td>170</td>\n",
       "    </tr>\n",
       "    <tr>\n",
       "      <th>2000-11-01</th>\n",
       "      <td>1704129</td>\n",
       "      <td>B</td>\n",
       "      <td>E</td>\n",
       "      <td>110407</td>\n",
       "      <td>4710734000011</td>\n",
       "      <td>1</td>\n",
       "      <td>38</td>\n",
       "      <td>46</td>\n",
       "    </tr>\n",
       "    <tr>\n",
       "      <th>2000-11-01</th>\n",
       "      <td>841528</td>\n",
       "      <td>C</td>\n",
       "      <td>E</td>\n",
       "      <td>110102</td>\n",
       "      <td>4710311107102</td>\n",
       "      <td>1</td>\n",
       "      <td>20</td>\n",
       "      <td>28</td>\n",
       "    </tr>\n",
       "    <tr>\n",
       "      <th>2000-11-01</th>\n",
       "      <td>768566</td>\n",
       "      <td>K</td>\n",
       "      <td>E</td>\n",
       "      <td>110401</td>\n",
       "      <td>4710088410382</td>\n",
       "      <td>1</td>\n",
       "      <td>44</td>\n",
       "      <td>55</td>\n",
       "    </tr>\n",
       "    <tr>\n",
       "      <th>2000-11-01</th>\n",
       "      <td>217361</td>\n",
       "      <td>F</td>\n",
       "      <td>E</td>\n",
       "      <td>130401</td>\n",
       "      <td>4711587809011</td>\n",
       "      <td>1</td>\n",
       "      <td>76</td>\n",
       "      <td>90</td>\n",
       "    </tr>\n",
       "    <tr>\n",
       "      <th>2000-11-01</th>\n",
       "      <td>2007052</td>\n",
       "      <td>D</td>\n",
       "      <td>E</td>\n",
       "      <td>110504</td>\n",
       "      <td>4710323168054</td>\n",
       "      <td>1</td>\n",
       "      <td>17</td>\n",
       "      <td>20</td>\n",
       "    </tr>\n",
       "  </tbody>\n",
       "</table>\n",
       "</div>"
      ],
      "text/plain": [
       "                  Customer ID Age Residence Area  Product Subclass  \\\n",
       "Transaction Date                                                     \n",
       "2000-11-01              46855  D              E             110411   \n",
       "2000-11-01             539166  E              E             130315   \n",
       "2000-11-01             663373  F              E             110217   \n",
       "2000-11-01             340625  A              E             110411   \n",
       "2000-11-01             236645  D              H             712901   \n",
       "2000-11-01            1704129  B              E             110407   \n",
       "2000-11-01             841528  C              E             110102   \n",
       "2000-11-01             768566  K              E             110401   \n",
       "2000-11-01             217361  F              E             130401   \n",
       "2000-11-01            2007052  D              E             110504   \n",
       "\n",
       "                     Product ID  Amount  Asset  Sale Price  \n",
       "Transaction Date                                            \n",
       "2000-11-01        4710085120468       3     51          57  \n",
       "2000-11-01        4714981010038       2     56          48  \n",
       "2000-11-01        4710265847666       1    180         135  \n",
       "2000-11-01        4710085120697       1     17          24  \n",
       "2000-11-01        8999002568972       2    128         170  \n",
       "2000-11-01        4710734000011       1     38          46  \n",
       "2000-11-01        4710311107102       1     20          28  \n",
       "2000-11-01        4710088410382       1     44          55  \n",
       "2000-11-01        4711587809011       1     76          90  \n",
       "2000-11-01        4710323168054       1     17          20  "
      ]
     },
     "execution_count": 5,
     "metadata": {},
     "output_type": "execute_result"
    }
   ],
   "source": [
    "pos_data = read_data()\n",
    "pos_data.head(10)"
   ]
  },
  {
   "cell_type": "code",
   "execution_count": 6,
   "metadata": {},
   "outputs": [
    {
     "name": "stdout",
     "output_type": "stream",
     "text": [
      "<class 'pandas.core.frame.DataFrame'>\n",
      "DatetimeIndex: 817741 entries, 2000-11-01 to 2001-02-28\n",
      "Data columns (total 8 columns):\n",
      "Customer ID         817741 non-null int64\n",
      "Age                 817741 non-null object\n",
      "Residence Area      817741 non-null object\n",
      "Product Subclass    817741 non-null int64\n",
      "Product ID          817741 non-null int64\n",
      "Amount              817741 non-null int64\n",
      "Asset               817741 non-null int64\n",
      "Sale Price          817741 non-null int64\n",
      "dtypes: int64(6), object(2)\n",
      "memory usage: 56.1+ MB\n"
     ]
    }
   ],
   "source": [
    "pos_data.info()"
   ]
  },
  {
   "cell_type": "code",
   "execution_count": 7,
   "metadata": {},
   "outputs": [
    {
     "name": "stdout",
     "output_type": "stream",
     "text": [
      "<class 'pandas.core.frame.DataFrame'>\n",
      "DatetimeIndex: 223622 entries, 2000-11-01 to 2000-11-30\n",
      "Data columns (total 8 columns):\n",
      "Customer ID         223622 non-null int64\n",
      "Age                 223622 non-null object\n",
      "Residence Area      223622 non-null object\n",
      "Product Subclass    223622 non-null int64\n",
      "Product ID          223622 non-null int64\n",
      "Amount              223622 non-null int64\n",
      "Asset               223622 non-null int64\n",
      "Sale Price          223622 non-null int64\n",
      "dtypes: int64(6), object(2)\n",
      "memory usage: 15.4+ MB\n",
      "<class 'pandas.core.frame.DataFrame'>\n",
      "DatetimeIndex: 178216 entries, 2000-12-01 to 2000-12-31\n",
      "Data columns (total 8 columns):\n",
      "Customer ID         178216 non-null int64\n",
      "Age                 178216 non-null object\n",
      "Residence Area      178216 non-null object\n",
      "Product Subclass    178216 non-null int64\n",
      "Product ID          178216 non-null int64\n",
      "Amount              178216 non-null int64\n",
      "Asset               178216 non-null int64\n",
      "Sale Price          178216 non-null int64\n",
      "dtypes: int64(6), object(2)\n",
      "memory usage: 12.2+ MB\n",
      "<class 'pandas.core.frame.DataFrame'>\n",
      "DatetimeIndex: 216864 entries, 2001-01-01 to 2001-01-31\n",
      "Data columns (total 8 columns):\n",
      "Customer ID         216864 non-null int64\n",
      "Age                 216864 non-null object\n",
      "Residence Area      216864 non-null object\n",
      "Product Subclass    216864 non-null int64\n",
      "Product ID          216864 non-null int64\n",
      "Amount              216864 non-null int64\n",
      "Asset               216864 non-null int64\n",
      "Sale Price          216864 non-null int64\n",
      "dtypes: int64(6), object(2)\n",
      "memory usage: 14.9+ MB\n",
      "<class 'pandas.core.frame.DataFrame'>\n",
      "DatetimeIndex: 199039 entries, 2001-02-01 to 2001-02-28\n",
      "Data columns (total 8 columns):\n",
      "Customer ID         199039 non-null int64\n",
      "Age                 199039 non-null object\n",
      "Residence Area      199039 non-null object\n",
      "Product Subclass    199039 non-null int64\n",
      "Product ID          199039 non-null int64\n",
      "Amount              199039 non-null int64\n",
      "Asset               199039 non-null int64\n",
      "Sale Price          199039 non-null int64\n",
      "dtypes: int64(6), object(2)\n",
      "memory usage: 13.7+ MB\n"
     ]
    }
   ],
   "source": [
    "pos_data['2000-11'].info()\n",
    "pos_data['2000-12'].info()\n",
    "pos_data['2001-01'].info()\n",
    "pos_data['2001-02'].info()"
   ]
  },
  {
   "cell_type": "code",
   "execution_count": 8,
   "metadata": {},
   "outputs": [
    {
     "data": {
      "text/plain": [
       "4714981010038    8476\n",
       "4711271000014    6120\n",
       "4719090900065    2444\n",
       "4711080010112    2251\n",
       "4710114128038    2181\n",
       "4710265849066    2018\n",
       "4713985863121    1976\n",
       "4710088410139    1870\n",
       "4710583996008    1840\n",
       "4710908131589    1680\n",
       "4710291112172    1641\n",
       "4710011401128    1637\n",
       "4710088410610    1632\n",
       "4710036003581    1622\n",
       "4712425010712    1620\n",
       "4710421090059    1564\n",
       "4710094097768    1448\n",
       "4719090900058    1408\n",
       "4710018004605    1391\n",
       "4710114105046    1384\n",
       "4710085120628    1357\n",
       "4710114606048    1294\n",
       "4711001302104    1242\n",
       "20557003         1202\n",
       "37000440147      1196\n",
       "4710104111569    1166\n",
       "4714381003128    1147\n",
       "4710908131534    1143\n",
       "8888021200256    1119\n",
       "4710032501791    1113\n",
       "                 ... \n",
       "4710644186225       1\n",
       "4973167492345       1\n",
       "20548094            1\n",
       "4973655701928       1\n",
       "4531632418346       1\n",
       "4712545128014       1\n",
       "4711703123021       1\n",
       "4716369700227       1\n",
       "4712292260067       1\n",
       "4901126627323       1\n",
       "4715833517132       1\n",
       "4973167400135       1\n",
       "4710431302265       1\n",
       "4710982092172       1\n",
       "4714082100423       1\n",
       "4710120001592       1\n",
       "4715785040108       1\n",
       "4717222103018       1\n",
       "4710177193165       1\n",
       "4905660058827       1\n",
       "4973655375372       1\n",
       "4710367812944       1\n",
       "4715222115512       1\n",
       "4714499028365       1\n",
       "20560379            1\n",
       "4973167470817       1\n",
       "9789575837402       1\n",
       "20229184            1\n",
       "4710015104018       1\n",
       "4973167481394       1\n",
       "Name: Product ID, Length: 23812, dtype: int64"
      ]
     },
     "execution_count": 8,
     "metadata": {},
     "output_type": "execute_result"
    }
   ],
   "source": [
    "pos_data[\"Product ID\"].value_counts()"
   ]
  },
  {
   "cell_type": "code",
   "execution_count": 9,
   "metadata": {},
   "outputs": [],
   "source": [
    "def prepare_data(pos_data, product_id):\n",
    "    item_data = pos_data.filter(items=[\"Product ID\"])[pos_data[\"Product ID\"] == product_id]\n",
    "    item_freq_data = item_data.groupby(item_data.index.date).count()\n",
    "    item_freq_data.index = pd.to_datetime(item_freq_data.index)\n",
    "    item_week_freq_data = item_freq_data.resample('W', how=\"sum\")\n",
    "    item_week_freq_data[\"Product ID\"] = item_week_freq_data[\"Product ID\"].astype(float)\n",
    "    item_week_freq_data.head()\n",
    "    return item_week_freq_data\n",
    "\n",
    "prep_data = prepare_data(pos_data, 4711271000014)"
   ]
  },
  {
   "cell_type": "code",
   "execution_count": 10,
   "metadata": {},
   "outputs": [
    {
     "data": {
      "text/plain": [
       "<matplotlib.axes._subplots.AxesSubplot at 0x7f8d7c611c50>"
      ]
     },
     "execution_count": 10,
     "metadata": {},
     "output_type": "execute_result"
    },
    {
     "data": {
      "image/png": "[encoded data removed]",
      "text/plain": [
       "<matplotlib.figure.Figure at 0x7f8d7c611790>"
      ]
     },
     "metadata": {},
     "output_type": "display_data"
    }
   ],
   "source": [
    "# Check the stationarity of the time series\n",
    "prep_data.plot()"
   ]
  },
  {
   "cell_type": "code",
   "execution_count": 23,
   "metadata": {},
   "outputs": [
    {
     "name": "stdout",
     "output_type": "stream",
     "text": [
      "ADF Statistic: 0.000000\n",
      "p-value: 0.958532\n",
      "Critical Values:\n",
      "\t5%: -3.478\n",
      "\t1%: -4.939\n",
      "\t10%: -2.844\n"
     ]
    },
    {
     "data": {
      "image/png": "[encoded data removed]",
      "text/plain": [
       "<matplotlib.figure.Figure at 0x7f8d7c228110>"
      ]
     },
     "metadata": {},
     "output_type": "display_data"
    }
   ],
   "source": [
    "from statsmodels.tsa.stattools import adfuller\n",
    "from pandas import Series\n",
    "\n",
    "\n",
    "# create a differenced series\n",
    "def difference(dataset, interval=1):\n",
    "    diff = list()\n",
    "    for i in range(interval, len(dataset)):\n",
    "        value = dataset[i] - dataset[i - interval]\n",
    "        diff.append(value)\n",
    "    return Series(diff)\n",
    "\n",
    "# difference data\n",
    "weeks = 1\n",
    "stationary = difference(prep_data.values, weeks)\n",
    "stationary.index = prep_data.index[weeks:]\n",
    "# check if stationary\n",
    "result = adfuller(stationary)\n",
    "print('ADF Statistic: %f' % result[0])\n",
    "print('p-value: %f' % result[1])\n",
    "print('Critical Values:')\n",
    "for key, value in result[4].items():\n",
    "    print('\\t%s: %.3f' % (key, value))\n",
    "# plot\n",
    "stationary = stationary.astype(float)\n",
    "stationary.plot()\n",
    "plt.show()\n",
    "\n"
   ]
  },
  {
   "cell_type": "code",
   "execution_count": 25,
   "metadata": {},
   "outputs": [
    {
     "data": {
      "image/png": "[encoded data removed]",
      "text/plain": [
       "<matplotlib.figure.Figure at 0x7f8d7c237d90>"
      ]
     },
     "metadata": {},
     "output_type": "display_data"
    }
   ],
   "source": [
    "from pandas.tools.plotting import autocorrelation_plot\n",
    "autocorrelation_plot(stationary)\n",
    "plt.show()\n",
    "#we can see that there is a positive correlation with the first 2-to-4 lags that is perhaps significant for the first 5 lags.\n",
    "\n",
    "#A good starting point for the AR parameter of the model may be 3."
   ]
  },
  {
   "cell_type": "code",
   "execution_count": 27,
   "metadata": {
    "collapsed": true
   },
   "outputs": [],
   "source": [
    "def train_and_predict_model(data):\n",
    "    X = data.values\n",
    "    size = int(len(X) * 0.66)\n",
    "    train, test = X[0:size], X[size:len(X)]\n",
    "    train_values = [x for x in train]\n",
    "    predictions = list()\n",
    "    for t in range(len(test)):\n",
    "        model = ARIMA(train_values, order=(3,1,0))\n",
    "        model_fit = model.fit(disp=0)\n",
    "        output = model_fit.forecast()\n",
    "        yhat = output[0]\n",
    "        predictions.append(yhat)\n",
    "        obs = test[t]\n",
    "        train_values.append(obs)\n",
    "        print('predicted=%f, expected=%f' % (yhat, obs))\n",
    "    error = mean_squared_error(test, predictions)\n",
    "    print('Test MSE: %.3f' % error)\n",
    "    # plot\n",
    "    plt.plot(test)\n",
    "    plt.plot(predictions, color='red')\n",
    "    plt.show()"
   ]
  },
  {
   "cell_type": "code",
   "execution_count": 28,
   "metadata": {
    "collapsed": true
   },
   "outputs": [],
   "source": [
    "#Tune the ARIMA hyperparameters for a rolling one-step forecast\n",
    "# GridSearch and evaluate an ARIMA model for a given order (p,d,q)\n",
    "def evaluate_arima_model(X, arima_order):\n",
    "    # prepare training dataset\n",
    "    train_size = int(len(X) * 0.66)\n",
    "    train, test = X[0:train_size], X[train_size:]\n",
    "    history = [x for x in train]\n",
    "    # make predictions\n",
    "    predictions = list()\n",
    "    for t in range(len(test)):\n",
    "        model = ARIMA(history, order=arima_order)\n",
    "        model_fit = model.fit(disp=0)\n",
    "        yhat = model_fit.forecast()[0]\n",
    "        predictions.append(yhat)\n",
    "        history.append(test[t])\n",
    "    # calculate out of sample error\n",
    "    error = mean_squared_error(test, predictions)\n",
    "    return error\n",
    "\n",
    "def evaluate_models(dataset, p_values, d_values, q_values):\n",
    "    dataset = dataset.astype('float32')\n",
    "    best_score, best_cfg = float(\"inf\"), None\n",
    "    for p in p_values:\n",
    "        for d in d_values:\n",
    "            for q in q_values:\n",
    "                order = (p,d,q)\n",
    "                try:\n",
    "                    mse = evaluate_arima_model(dataset, order)\n",
    "                    if mse < best_score:\n",
    "                        best_score, best_cfg = mse, order\n",
    "                        print('ARIMA%s MSE=%.3f' % (order,mse))\n",
    "                except:\n",
    "                    continue\n",
    "    print('Best ARIMA%s MSE=%.3f' % (best_cfg, best_score))\n"
   ]
  },
  {
   "cell_type": "code",
   "execution_count": 31,
   "metadata": {},
   "outputs": [
    {
     "name": "stdout",
     "output_type": "stream",
     "text": [
      "ADF Statistic: 0.000000\n",
      "p-value: 0.958532\n",
      "Critical Values:\n",
      "\t5%: -3.478\n",
      "\t1%: -4.939\n",
      "\t10%: -2.844\n",
      "ARIMA(0, 0, 0) MSE=1784103.867\n",
      "ARIMA(0, 1, 1) MSE=1368467.689\n",
      "ARIMA(2, 1, 0) MSE=1278584.569\n",
      "Best ARIMA(2, 1, 0) MSE=1278584.569\n"
     ]
    }
   ],
   "source": [
    "prep_data = prepare_data(pos_data, 4714981010038)\n",
    "\n",
    "# difference data\n",
    "weeks = 4\n",
    "stationary = difference(prep_data.values, weeks)\n",
    "stationary.index = prep_data.index[weeks:]\n",
    "# check if stationary\n",
    "result = adfuller(stationary)\n",
    "print('ADF Statistic: %f' % result[0])\n",
    "print('p-value: %f' % result[1])\n",
    "print('Critical Values:')\n",
    "for key, value in result[4].items():\n",
    "    print('\\t%s: %.3f' % (key, value))\n",
    "# plot\n",
    "stationary = stationary.astype(float)\n",
    "\n",
    "# evaluate parameters\n",
    "p_values = [0, 1, 2, 4, 6, 8, 10]\n",
    "d_values = range(0, 3)\n",
    "q_values = range(0, 3)\n",
    "evaluate_models(stationary.values, p_values, d_values, q_values)\n",
    "#train_and_predict_model(prep_data)"
   ]
  },
  {
   "cell_type": "code",
   "execution_count": null,
   "metadata": {
    "collapsed": true
   },
   "outputs": [],
   "source": []
  },
  {
   "cell_type": "code",
   "execution_count": null,
   "metadata": {
    "collapsed": true
   },
   "outputs": [],
   "source": []
  }
 ],
 "metadata": {
  "kernelspec": {
   "display_name": "Python 2",
   "language": "python",
   "name": "python2"
  },
  "language_info": {
   "codemirror_mode": {
    "name": "ipython",
    "version": 2
   },
   "file_extension": ".py",
   "mimetype": "text/x-python",
   "name": "python",
   "nbconvert_exporter": "python",
   "pygments_lexer": "ipython2",
   "version": "2.7.12"
  }
 },
 "nbformat": 4,
 "nbformat_minor": 2
}
